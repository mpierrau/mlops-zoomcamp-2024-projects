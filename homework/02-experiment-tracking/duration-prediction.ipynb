{
 "cells": [
  {
   "cell_type": "code",
   "execution_count": 1,
   "id": "b2bd82d7",
   "metadata": {},
   "outputs": [
    {
     "name": "stdout",
     "output_type": "stream",
     "text": [
      "Python 3.11.6\n"
     ]
    }
   ],
   "source": [
    "!python -V"
   ]
  },
  {
   "cell_type": "code",
   "execution_count": 2,
   "id": "41062d8a",
   "metadata": {},
   "outputs": [],
   "source": [
    "import pandas as pd"
   ]
  },
  {
   "cell_type": "code",
   "execution_count": 3,
   "id": "c984c564",
   "metadata": {},
   "outputs": [],
   "source": [
    "import pickle"
   ]
  },
  {
   "cell_type": "code",
   "execution_count": 4,
   "id": "4add538c",
   "metadata": {},
   "outputs": [],
   "source": [
    "import seaborn as sns\n",
    "import matplotlib.pyplot as plt"
   ]
  },
  {
   "cell_type": "code",
   "execution_count": 5,
   "id": "8b135c2b",
   "metadata": {},
   "outputs": [],
   "source": [
    "from sklearn.feature_extraction import DictVectorizer\n",
    "from sklearn.linear_model import LinearRegression\n",
    "from sklearn.linear_model import Lasso\n",
    "from sklearn.linear_model import Ridge\n",
    "\n",
    "from sklearn.metrics import root_mean_squared_error"
   ]
  },
  {
   "cell_type": "code",
   "execution_count": 6,
   "id": "1464985f",
   "metadata": {},
   "outputs": [
    {
     "data": {
      "text/plain": [
       "<Experiment: artifact_location='/home/mpierrau/Documents/code/courses/mlops-zoomcamp-2024/mlops-zoomcamp-2024-projects/homework/02-experiment-tracking/mlruns/1', creation_time=1715937454052, experiment_id='1', last_update_time=1715937454052, lifecycle_stage='active', name='nyc-taxi-experiment', tags={}>"
      ]
     },
     "execution_count": 6,
     "metadata": {},
     "output_type": "execute_result"
    }
   ],
   "source": [
    "import mlflow\n",
    "\n",
    "\n",
    "mlflow.set_tracking_uri(\"sqlite:///mlflow.db\")\n",
    "mlflow.set_experiment(\"nyc-taxi-experiment\")"
   ]
  },
  {
   "cell_type": "code",
   "execution_count": 7,
   "id": "f9e6479e",
   "metadata": {},
   "outputs": [],
   "source": [
    "def read_dataframe(filename):\n",
    "    df = pd.read_parquet(filename)\n",
    "\n",
    "    df.tpep_dropoff_datetime = pd.to_datetime(df.tpep_dropoff_datetime)\n",
    "    df.tpep_pickup_datetime = pd.to_datetime(df.tpep_pickup_datetime)\n",
    "\n",
    "    df['duration'] = df.tpep_dropoff_datetime - df.tpep_pickup_datetime\n",
    "    df.duration = df.duration.apply(lambda td: td.total_seconds() / 60)\n",
    "\n",
    "    df = df[(df.duration >= 1) & (df.duration <= 60)]\n",
    "\n",
    "    categorical = ['PULocationID', 'DOLocationID']\n",
    "    df[categorical] = df[categorical].astype(str)\n",
    "    \n",
    "    return df"
   ]
  },
  {
   "cell_type": "code",
   "execution_count": 8,
   "id": "8029eba0",
   "metadata": {},
   "outputs": [],
   "source": [
    "df_train = read_dataframe('../data/yellow_tripdata_2023-01.parquet')\n",
    "df_val = read_dataframe('../data/yellow_tripdata_2023-02.parquet')"
   ]
  },
  {
   "cell_type": "code",
   "execution_count": 12,
   "id": "f6f2f0eb",
   "metadata": {},
   "outputs": [
    {
     "data": {
      "text/plain": [
       "(3009173, 2855951)"
      ]
     },
     "execution_count": 12,
     "metadata": {},
     "output_type": "execute_result"
    }
   ],
   "source": [
    "len(df_train), len(df_val)"
   ]
  },
  {
   "cell_type": "code",
   "execution_count": 9,
   "id": "951d51ef",
   "metadata": {},
   "outputs": [],
   "source": [
    "df_train['PU_DO'] = df_train['PULocationID'] + '_' + df_train['DOLocationID']\n",
    "df_val['PU_DO'] = df_val['PULocationID'] + '_' + df_val['DOLocationID']"
   ]
  },
  {
   "cell_type": "code",
   "execution_count": 10,
   "id": "c5cbfc25",
   "metadata": {},
   "outputs": [],
   "source": [
    "categorical = ['PU_DO'] #'PULocationID', 'DOLocationID']\n",
    "numerical = ['trip_distance']\n",
    "\n",
    "dv = DictVectorizer()\n",
    "\n",
    "train_dicts = df_train[categorical + numerical].to_dict(orient='records')\n",
    "X_train = dv.fit_transform(train_dicts)\n",
    "\n",
    "val_dicts = df_val[categorical + numerical].to_dict(orient='records')\n",
    "X_val = dv.transform(val_dicts)"
   ]
  },
  {
   "cell_type": "code",
   "execution_count": 11,
   "id": "1e9fb68b",
   "metadata": {},
   "outputs": [],
   "source": [
    "target = 'duration'\n",
    "y_train = df_train[target].values\n",
    "y_val = df_val[target].values"
   ]
  },
  {
   "cell_type": "code",
   "execution_count": 12,
   "id": "95bd922f",
   "metadata": {},
   "outputs": [],
   "source": [
    "mlflow.sklearn.autolog(disable=False)"
   ]
  },
  {
   "cell_type": "code",
   "execution_count": 13,
   "id": "a4999b94",
   "metadata": {},
   "outputs": [
    {
     "name": "stderr",
     "output_type": "stream",
     "text": [
      "2024/05/20 10:56:54 WARNING mlflow.sklearn: Failed to log training dataset information to MLflow Tracking. Reason: Unable to allocate 489. GiB for an array with shape (3009173, 21802) and data type float64\n",
      "2024/05/20 10:56:58 WARNING mlflow.utils.autologging_utils: MLflow autologging encountered a warning: \"/home/mpierrau/.cache/pypoetry/virtualenvs/mlops-zoomcamp-2024-mpierrau-jQelxcs6-py3.11/lib/python3.11/site-packages/_distutils_hack/__init__.py:26: UserWarning: Setuptools is replacing distutils.\"\n",
      "2024/05/20 10:56:58 WARNING mlflow.sklearn: Failed to log evaluation dataset information to MLflow Tracking. Reason: Unable to allocate 464. GiB for an array with shape (2855951, 21802) and data type float64\n"
     ]
    }
   ],
   "source": [
    "with mlflow.start_run():\n",
    "\n",
    "    mlflow.set_tag(\"developer\", \"magnus\")\n",
    "    mlflow.set_tag(\"project-type\", \"experimenting\")\n",
    "\n",
    "    mlflow.log_param(\"train-data-path\", \"./data/yellow_tripdata_2023-01.parquet\")\n",
    "    mlflow.log_param(\"valid-data-path\", \"./data/yellow_tripdata_2023-02.parquet\")\n",
    "\n",
    "    alpha = 0.001\n",
    "    mlflow.log_param(\"alpha\", alpha)\n",
    "    lr = LinearRegression()\n",
    "    lr.fit(X_train, y_train)\n",
    "\n",
    "    y_pred = lr.predict(X_val)\n",
    "    rmse = root_mean_squared_error(y_val, y_pred)\n",
    "    \n",
    "    with open('models/lin_reg.bin', 'wb') as f_out:\n",
    "        pickle.dump((dv, lr), f_out)\n",
    "\n",
    "    mlflow.log_metric(\"rmse\", rmse)\n",
    "\n",
    "    mlflow.log_artifact(local_path=\"models/lin_reg.bin\", artifact_path=\"models_pickle\")"
   ]
  },
  {
   "cell_type": "code",
   "execution_count": null,
   "id": "22bf6f8b",
   "metadata": {},
   "outputs": [],
   "source": []
  },
  {
   "cell_type": "code",
   "execution_count": null,
   "id": "47b0eb9b",
   "metadata": {},
   "outputs": [],
   "source": []
  },
  {
   "cell_type": "code",
   "execution_count": 16,
   "id": "5f56e97b",
   "metadata": {},
   "outputs": [],
   "source": [
    "import xgboost as xgb"
   ]
  },
  {
   "cell_type": "code",
   "execution_count": 17,
   "id": "907dc6a2",
   "metadata": {},
   "outputs": [],
   "source": [
    "from hyperopt import fmin, tpe, hp, STATUS_OK, Trials\n",
    "from hyperopt.pyll import scope"
   ]
  },
  {
   "cell_type": "code",
   "execution_count": 18,
   "id": "091ab328",
   "metadata": {},
   "outputs": [],
   "source": [
    "train = xgb.DMatrix(X_train, label=y_train)\n",
    "valid = xgb.DMatrix(X_val, label=y_val)"
   ]
  },
  {
   "cell_type": "code",
   "execution_count": 19,
   "id": "c2d84b26",
   "metadata": {},
   "outputs": [],
   "source": [
    "def objective(params):\n",
    "    with mlflow.start_run():\n",
    "        mlflow.set_tag(\"model\", \"xgboost\")\n",
    "        mlflow.log_params(params)\n",
    "        booster = xgb.train(\n",
    "            params=params,\n",
    "            dtrain=train,\n",
    "            num_boost_round=20,\n",
    "            evals=[(valid, 'validation')],\n",
    "            early_stopping_rounds=10\n",
    "        )\n",
    "        y_pred = booster.predict(valid)\n",
    "        rmse = root_mean_squared_error(y_val, y_pred)\n",
    "        mlflow.log_metric(\"rmse\", rmse)\n",
    "\n",
    "    return {'loss': rmse, 'status': STATUS_OK}"
   ]
  },
  {
   "cell_type": "code",
   "execution_count": 17,
   "id": "e54837f5",
   "metadata": {},
   "outputs": [],
   "source": [
    "del X_train, X_val, y_train\n",
    "del train_dicts , val_dicts\n",
    "del df_train , df_val"
   ]
  },
  {
   "cell_type": "code",
   "execution_count": 19,
   "id": "6b1f77f5",
   "metadata": {},
   "outputs": [
    {
     "name": "stdout",
     "output_type": "stream",
     "text": [
      "  0%|                                    | 0/50 [00:00<?, ?trial/s, best loss=?]"
     ]
    },
    {
     "name": "stderr",
     "output_type": "stream",
     "text": [
      "/home/mpierrau/.cache/pypoetry/virtualenvs/mlops-zoomcamp-2024-mpierrau-jQelxcs6-py3.11/lib/python3.11/site-packages/xgboost/core.py:160: UserWarning: [11:51:45] WARNING: /workspace/src/objective/regression_obj.cu:209: reg:linear is now deprecated in favor of reg:squarederror.\n",
      "  warnings.warn(smsg, UserWarning)\n",
      "\n"
     ]
    },
    {
     "name": "stdout",
     "output_type": "stream",
     "text": [
      "[0]\tvalidation-rmse:7.95039                                                     \n",
      "[1]\tvalidation-rmse:6.65935                                                     \n",
      "[2]\tvalidation-rmse:5.90901                                                     \n",
      "[3]\tvalidation-rmse:5.48805                                                     \n",
      "[4]\tvalidation-rmse:5.25403                                                     \n",
      "[5]\tvalidation-rmse:5.12334                                                     \n",
      "[6]\tvalidation-rmse:5.04762                                                     \n",
      "[7]\tvalidation-rmse:5.00054                                                     \n",
      "[8]\tvalidation-rmse:4.97382                                                     \n",
      "[9]\tvalidation-rmse:4.95523                                                     \n",
      "[10]\tvalidation-rmse:4.94233                                                    \n",
      "[11]\tvalidation-rmse:4.92994                                                    \n",
      "[12]\tvalidation-rmse:4.92184                                                    \n",
      "[13]\tvalidation-rmse:4.91506                                                    \n",
      "[14]\tvalidation-rmse:4.90942                                                    \n",
      "[15]\tvalidation-rmse:4.90723                                                    \n",
      "[16]\tvalidation-rmse:4.90468                                                    \n",
      "[17]\tvalidation-rmse:4.90223                                                    \n",
      "[18]\tvalidation-rmse:4.89999                                                    \n",
      "[19]\tvalidation-rmse:4.89790                                                    \n",
      "  2%|▏          | 1/50 [00:49<40:28, 49.57s/trial, best loss: 4.897897431572136]"
     ]
    },
    {
     "name": "stderr",
     "output_type": "stream",
     "text": [
      "/home/mpierrau/.cache/pypoetry/virtualenvs/mlops-zoomcamp-2024-mpierrau-jQelxcs6-py3.11/lib/python3.11/site-packages/xgboost/core.py:160: UserWarning: [11:52:35] WARNING: /workspace/src/objective/regression_obj.cu:209: reg:linear is now deprecated in favor of reg:squarederror.\n",
      "  warnings.warn(smsg, UserWarning)\n",
      "\n"
     ]
    },
    {
     "name": "stdout",
     "output_type": "stream",
     "text": [
      "[0]\tvalidation-rmse:8.02152                                                     \n",
      "[1]\tvalidation-rmse:6.76795                                                     \n",
      "[2]\tvalidation-rmse:6.03716                                                     \n",
      "[3]\tvalidation-rmse:5.62627                                                     \n",
      "[4]\tvalidation-rmse:5.39882                                                     \n",
      "[5]\tvalidation-rmse:5.27230                                                     \n",
      "[6]\tvalidation-rmse:5.19996                                                     \n",
      "[7]\tvalidation-rmse:5.15678                                                     \n",
      "[8]\tvalidation-rmse:5.13142                                                     \n",
      "[9]\tvalidation-rmse:5.11370                                                     \n",
      "[10]\tvalidation-rmse:5.10220                                                    \n",
      "[11]\tvalidation-rmse:5.09236                                                    \n",
      "[12]\tvalidation-rmse:5.08628                                                    \n",
      "[13]\tvalidation-rmse:5.08107                                                    \n",
      "[14]\tvalidation-rmse:5.07634                                                    \n",
      "[15]\tvalidation-rmse:5.07430                                                    \n",
      "[16]\tvalidation-rmse:5.07230                                                    \n",
      "[17]\tvalidation-rmse:5.07058                                                    \n",
      "[18]\tvalidation-rmse:5.06735                                                    \n",
      "[19]\tvalidation-rmse:5.06560                                                    \n",
      "  4%|▍          | 2/50 [01:13<27:29, 34.36s/trial, best loss: 4.897897431572136]"
     ]
    },
    {
     "name": "stderr",
     "output_type": "stream",
     "text": [
      "/home/mpierrau/.cache/pypoetry/virtualenvs/mlops-zoomcamp-2024-mpierrau-jQelxcs6-py3.11/lib/python3.11/site-packages/xgboost/core.py:160: UserWarning: [11:52:58] WARNING: /workspace/src/objective/regression_obj.cu:209: reg:linear is now deprecated in favor of reg:squarederror.\n",
      "  warnings.warn(smsg, UserWarning)\n",
      "\n"
     ]
    },
    {
     "name": "stdout",
     "output_type": "stream",
     "text": [
      "[0]\tvalidation-rmse:9.69075                                                     \n",
      "[1]\tvalidation-rmse:9.33832                                                     \n",
      "[2]\tvalidation-rmse:9.00916                                                     \n",
      "[3]\tvalidation-rmse:8.70207                                                     \n",
      "[4]\tvalidation-rmse:8.41578                                                     \n",
      "[5]\tvalidation-rmse:8.14922                                                     \n",
      "[6]\tvalidation-rmse:7.90111                                                     \n",
      "[7]\tvalidation-rmse:7.67075                                                     \n",
      "[8]\tvalidation-rmse:7.45678                                                     \n",
      "[9]\tvalidation-rmse:7.25836                                                     \n",
      "[10]\tvalidation-rmse:7.07474                                                    \n",
      "[11]\tvalidation-rmse:6.90468                                                    \n",
      "[12]\tvalidation-rmse:6.74766                                                    \n",
      "[13]\tvalidation-rmse:6.60272                                                    \n",
      "[14]\tvalidation-rmse:6.46925                                                    \n",
      "[15]\tvalidation-rmse:6.34596                                                    \n",
      "[16]\tvalidation-rmse:6.23262                                                    \n",
      "[17]\tvalidation-rmse:6.12853                                                    \n",
      "[18]\tvalidation-rmse:6.03240                                                    \n",
      "[19]\tvalidation-rmse:5.94440                                                    \n",
      "  6%|▋          | 3/50 [02:04<32:46, 41.83s/trial, best loss: 4.897897431572136]"
     ]
    },
    {
     "name": "stderr",
     "output_type": "stream",
     "text": [
      "/home/mpierrau/.cache/pypoetry/virtualenvs/mlops-zoomcamp-2024-mpierrau-jQelxcs6-py3.11/lib/python3.11/site-packages/xgboost/core.py:160: UserWarning: [11:53:49] WARNING: /workspace/src/objective/regression_obj.cu:209: reg:linear is now deprecated in favor of reg:squarederror.\n",
      "  warnings.warn(smsg, UserWarning)\n",
      "\n"
     ]
    },
    {
     "name": "stdout",
     "output_type": "stream",
     "text": [
      "[0]\tvalidation-rmse:9.48504                                                     \n",
      "[1]\tvalidation-rmse:8.96039                                                     \n",
      "[2]\tvalidation-rmse:8.48901                                                     \n",
      "[3]\tvalidation-rmse:8.06645                                                     \n",
      "[4]\tvalidation-rmse:7.68857                                                     \n",
      "[5]\tvalidation-rmse:7.35152                                                     \n",
      "[6]\tvalidation-rmse:7.05185                                                     \n",
      "[7]\tvalidation-rmse:6.78538                                                     \n",
      "[8]\tvalidation-rmse:6.55014                                                     \n",
      "[9]\tvalidation-rmse:6.34167                                                     \n",
      "[10]\tvalidation-rmse:6.15870                                                    \n",
      "[11]\tvalidation-rmse:5.99776                                                    \n",
      "[12]\tvalidation-rmse:5.85627                                                    \n",
      "[13]\tvalidation-rmse:5.73197                                                    \n",
      "[14]\tvalidation-rmse:5.62369                                                    \n",
      "[15]\tvalidation-rmse:5.52883                                                    \n",
      "[16]\tvalidation-rmse:5.44597                                                    \n",
      "[17]\tvalidation-rmse:5.37342                                                    \n",
      "[18]\tvalidation-rmse:5.31023                                                    \n",
      "[19]\tvalidation-rmse:5.25478                                                    \n",
      "  8%|▉          | 4/50 [03:26<44:25, 57.95s/trial, best loss: 4.897897431572136]"
     ]
    },
    {
     "name": "stderr",
     "output_type": "stream",
     "text": [
      "/home/mpierrau/.cache/pypoetry/virtualenvs/mlops-zoomcamp-2024-mpierrau-jQelxcs6-py3.11/lib/python3.11/site-packages/xgboost/core.py:160: UserWarning: [11:55:12] WARNING: /workspace/src/objective/regression_obj.cu:209: reg:linear is now deprecated in favor of reg:squarederror.\n",
      "  warnings.warn(smsg, UserWarning)\n",
      "\n"
     ]
    },
    {
     "name": "stdout",
     "output_type": "stream",
     "text": [
      "[0]\tvalidation-rmse:7.90956                                                     \n",
      "[1]\tvalidation-rmse:6.57897                                                     \n",
      "  8%|▉          | 4/50 [03:44<44:25, 57.95s/trial, best loss: 4.897897431572136]"
     ]
    }
   ],
   "source": [
    "search_space = {\n",
    "    'max_depth': scope.int(hp.quniform('max_depth', 4, 100, 1)),\n",
    "    'learning_rate': hp.loguniform('learning_rate', -3, 0),\n",
    "    'reg_alpha': hp.loguniform('reg_alpha', -5, -1),\n",
    "    'reg_lambda': hp.loguniform('reg_lambda', -6, -1),\n",
    "    'min_child_weight': hp.loguniform('min_child_weight', -1, 3),\n",
    "    'objective': 'reg:linear',\n",
    "    'seed': 42\n",
    "}\n",
    "\n",
    "best_result = fmin(\n",
    "    fn=objective,\n",
    "    space=search_space,\n",
    "    algo=tpe.suggest,\n",
    "    max_evals=50,\n",
    "    trials=Trials()\n",
    ")"
   ]
  },
  {
   "cell_type": "code",
   "execution_count": 20,
   "id": "fc4d5283",
   "metadata": {},
   "outputs": [],
   "source": [
    "mlflow.xgboost.autolog(disable=False)"
   ]
  },
  {
   "cell_type": "code",
   "execution_count": 24,
   "id": "0e8cd729",
   "metadata": {},
   "outputs": [
    {
     "name": "stderr",
     "output_type": "stream",
     "text": [
      "2024/05/20 10:53:51 INFO mlflow.tracking.fluent: Autologging successfully enabled for sklearn.\n",
      "2024/05/20 10:53:51 WARNING mlflow.xgboost: Failed to log dataset information to MLflow Tracking. Reason: Unable to allocate 244. GiB for an array with shape (3009173, 21802) and data type float32\n"
     ]
    },
    {
     "name": "stdout",
     "output_type": "stream",
     "text": [
      "[0]\tvalidation-rmse:9.37133\n",
      "[1]\tvalidation-rmse:8.75894\n",
      "[2]\tvalidation-rmse:8.22242\n",
      "[3]\tvalidation-rmse:7.75402\n",
      "[4]\tvalidation-rmse:7.34642\n",
      "[5]\tvalidation-rmse:6.99342\n",
      "[6]\tvalidation-rmse:6.68849\n",
      "[7]\tvalidation-rmse:6.42668\n",
      "[8]\tvalidation-rmse:6.20193\n",
      "[9]\tvalidation-rmse:6.01053\n"
     ]
    },
    {
     "name": "stderr",
     "output_type": "stream",
     "text": [
      "2024/05/20 10:54:16 WARNING mlflow.xgboost: Failed to infer model signature: could not sample data to infer model signature: please ensure that autologging is enabled before constructing the dataset.\n",
      "2024/05/20 10:54:16 WARNING mlflow.utils.autologging_utils: MLflow autologging encountered a warning: \"/home/mpierrau/.cache/pypoetry/virtualenvs/mlops-zoomcamp-2024-mpierrau-jQelxcs6-py3.11/lib/python3.11/site-packages/xgboost/core.py:160: UserWarning: [10:54:16] WARNING: /workspace/src/c_api/c_api.cc:1240: Saving into deprecated binary model format, please consider using `json` or `ubj`. Model format will default to JSON in XGBoost 2.2 if not specified.\"\n"
     ]
    },
    {
     "ename": "FileNotFoundError",
     "evalue": "[Errno 2] No such file or directory: 'models/preprocessor.b'",
     "output_type": "error",
     "traceback": [
      "\u001b[0;31m---------------------------------------------------------------------------\u001b[0m",
      "\u001b[0;31mFileNotFoundError\u001b[0m                         Traceback (most recent call last)",
      "Cell \u001b[0;32mIn[24], line 30\u001b[0m\n\u001b[1;32m     27\u001b[0m rmse \u001b[38;5;241m=\u001b[39m root_mean_squared_error(y_val, y_pred)\n\u001b[1;32m     28\u001b[0m mlflow\u001b[38;5;241m.\u001b[39mlog_metric(\u001b[38;5;124m\"\u001b[39m\u001b[38;5;124mrmse\u001b[39m\u001b[38;5;124m\"\u001b[39m, rmse)\n\u001b[0;32m---> 30\u001b[0m \u001b[38;5;28;01mwith\u001b[39;00m \u001b[38;5;28;43mopen\u001b[39;49m\u001b[43m(\u001b[49m\u001b[38;5;124;43m\"\u001b[39;49m\u001b[38;5;124;43mmodels/preprocessor.b\u001b[39;49m\u001b[38;5;124;43m\"\u001b[39;49m\u001b[43m,\u001b[49m\u001b[43m \u001b[49m\u001b[38;5;124;43m\"\u001b[39;49m\u001b[38;5;124;43mwb\u001b[39;49m\u001b[38;5;124;43m\"\u001b[39;49m\u001b[43m)\u001b[49m \u001b[38;5;28;01mas\u001b[39;00m f_out:\n\u001b[1;32m     31\u001b[0m     pickle\u001b[38;5;241m.\u001b[39mdump(dv, f_out)\n\u001b[1;32m     32\u001b[0m mlflow\u001b[38;5;241m.\u001b[39mlog_artifact(\u001b[38;5;124m\"\u001b[39m\u001b[38;5;124mmodels/preprocessor.b\u001b[39m\u001b[38;5;124m\"\u001b[39m, artifact_path\u001b[38;5;241m=\u001b[39m\u001b[38;5;124m\"\u001b[39m\u001b[38;5;124mpreprocessor\u001b[39m\u001b[38;5;124m\"\u001b[39m)\n",
      "File \u001b[0;32m~/.cache/pypoetry/virtualenvs/mlops-zoomcamp-2024-mpierrau-jQelxcs6-py3.11/lib/python3.11/site-packages/IPython/core/interactiveshell.py:324\u001b[0m, in \u001b[0;36m_modified_open\u001b[0;34m(file, *args, **kwargs)\u001b[0m\n\u001b[1;32m    317\u001b[0m \u001b[38;5;28;01mif\u001b[39;00m file \u001b[38;5;129;01min\u001b[39;00m {\u001b[38;5;241m0\u001b[39m, \u001b[38;5;241m1\u001b[39m, \u001b[38;5;241m2\u001b[39m}:\n\u001b[1;32m    318\u001b[0m     \u001b[38;5;28;01mraise\u001b[39;00m \u001b[38;5;167;01mValueError\u001b[39;00m(\n\u001b[1;32m    319\u001b[0m         \u001b[38;5;124mf\u001b[39m\u001b[38;5;124m\"\u001b[39m\u001b[38;5;124mIPython won\u001b[39m\u001b[38;5;124m'\u001b[39m\u001b[38;5;124mt let you open fd=\u001b[39m\u001b[38;5;132;01m{\u001b[39;00mfile\u001b[38;5;132;01m}\u001b[39;00m\u001b[38;5;124m by default \u001b[39m\u001b[38;5;124m\"\u001b[39m\n\u001b[1;32m    320\u001b[0m         \u001b[38;5;124m\"\u001b[39m\u001b[38;5;124mas it is likely to crash IPython. If you know what you are doing, \u001b[39m\u001b[38;5;124m\"\u001b[39m\n\u001b[1;32m    321\u001b[0m         \u001b[38;5;124m\"\u001b[39m\u001b[38;5;124myou can use builtins\u001b[39m\u001b[38;5;124m'\u001b[39m\u001b[38;5;124m open.\u001b[39m\u001b[38;5;124m\"\u001b[39m\n\u001b[1;32m    322\u001b[0m     )\n\u001b[0;32m--> 324\u001b[0m \u001b[38;5;28;01mreturn\u001b[39;00m \u001b[43mio_open\u001b[49m\u001b[43m(\u001b[49m\u001b[43mfile\u001b[49m\u001b[43m,\u001b[49m\u001b[43m \u001b[49m\u001b[38;5;241;43m*\u001b[39;49m\u001b[43margs\u001b[49m\u001b[43m,\u001b[49m\u001b[43m \u001b[49m\u001b[38;5;241;43m*\u001b[39;49m\u001b[38;5;241;43m*\u001b[39;49m\u001b[43mkwargs\u001b[49m\u001b[43m)\u001b[49m\n",
      "\u001b[0;31mFileNotFoundError\u001b[0m: [Errno 2] No such file or directory: 'models/preprocessor.b'"
     ]
    }
   ],
   "source": [
    "with mlflow.start_run():\n",
    "    \n",
    "    #train = xgb.DMatrix(X_train, label=y_train)\n",
    "    #valid = xgb.DMatrix(X_val, label=y_val)\n",
    "\n",
    "    best_params = {\n",
    "        'learning_rate': 0.09585355369315604,\n",
    "        'max_depth': 30,\n",
    "        'min_child_weight': 1.060597050922164,\n",
    "        'objective': 'reg:squarederror',\n",
    "        'reg_alpha': 0.018060244040060163,\n",
    "        'reg_lambda': 0.011658731377413597,\n",
    "        'seed': 42\n",
    "    }\n",
    "\n",
    "    mlflow.autolog()\n",
    "    \n",
    "    booster = xgb.train(\n",
    "        params=best_params,\n",
    "        dtrain=train,\n",
    "        num_boost_round=10,\n",
    "        evals=[(valid, 'validation')],\n",
    "        early_stopping_rounds=5\n",
    "    )\n",
    "\n",
    "    y_pred = booster.predict(valid)\n",
    "    rmse = root_mean_squared_error(y_val, y_pred)\n",
    "    mlflow.log_metric(\"rmse\", rmse)\n",
    "\n",
    "    with open(\"models/preprocessor.b\", \"wb\") as f_out:\n",
    "        pickle.dump(dv, f_out)\n",
    "    mlflow.log_artifact(\"models/preprocessor.b\", artifact_path=\"preprocessor\")\n",
    "\n",
    "    mlflow.xgboost.log_model(booster, artifact_path=\"models_mlflow\")"
   ]
  },
  {
   "cell_type": "code",
   "execution_count": null,
   "id": "5f3f8f4d",
   "metadata": {},
   "outputs": [],
   "source": []
  },
  {
   "cell_type": "code",
   "execution_count": null,
   "id": "c2108f4b",
   "metadata": {},
   "outputs": [],
   "source": []
  },
  {
   "cell_type": "code",
   "execution_count": null,
   "id": "87614b82",
   "metadata": {},
   "outputs": [
    {
     "name": "stderr",
     "output_type": "stream",
     "text": [
      "/Users/cristian.martinez/miniconda3/envs/exp-tracking-env/lib/python3.9/site-packages/sklearn/svm/_base.py:1206: ConvergenceWarning: Liblinear failed to converge, increase the number of iterations.\n",
      "  warnings.warn(\n"
     ]
    }
   ],
   "source": [
    "from sklearn.ensemble import RandomForestRegressor, GradientBoostingRegressor, ExtraTreesRegressor\n",
    "from sklearn.svm import LinearSVR\n",
    "\n",
    "mlflow.sklearn.autolog()\n",
    "\n",
    "for model_class in (RandomForestRegressor, GradientBoostingRegressor, ExtraTreesRegressor, LinearSVR):\n",
    "\n",
    "    with mlflow.start_run():\n",
    "\n",
    "        mlflow.log_param(\"train-data-path\", \"./data/green_tripdata_2021-01.csv\")\n",
    "        mlflow.log_param(\"valid-data-path\", \"./data/green_tripdata_2021-02.csv\")\n",
    "        mlflow.log_artifact(\"models/preprocessor.b\", artifact_path=\"preprocessor\")\n",
    "\n",
    "        mlmodel = model_class()\n",
    "        mlmodel.fit(X_train, y_train)\n",
    "\n",
    "        y_pred = mlmodel.predict(X_val)\n",
    "        rmse = root_mean_squared_error(y_val, y_pred, squared=False)\n",
    "        mlflow.log_metric(\"rmse\", rmse)\n",
    "        "
   ]
  },
  {
   "cell_type": "code",
   "execution_count": 17,
   "id": "6f0813c7",
   "metadata": {},
   "outputs": [],
   "source": [
    "loaded_model = mlflow.pyfunc.load_model(\"runs:/56cf295f0eb8461c9d5a48a1ce6ab8f3/model\")"
   ]
  },
  {
   "cell_type": "code",
   "execution_count": 19,
   "id": "4c489ec5",
   "metadata": {},
   "outputs": [],
   "source": [
    "sklearn_model = mlflow.sklearn.load_model(\"runs:/56cf295f0eb8461c9d5a48a1ce6ab8f3/model\")"
   ]
  },
  {
   "cell_type": "code",
   "execution_count": 21,
   "id": "84718ae9",
   "metadata": {},
   "outputs": [
    {
     "data": {
      "text/plain": [
       "<bound method LinearModel.predict of LinearRegression()>"
      ]
     },
     "execution_count": 21,
     "metadata": {},
     "output_type": "execute_result"
    }
   ],
   "source": []
  },
  {
   "cell_type": "code",
   "execution_count": 22,
   "id": "6adab330",
   "metadata": {},
   "outputs": [],
   "source": [
    "from mlflow.tracking import MlflowClient\n",
    "\n",
    "MLFLOW_TRACKING_URI = \"sqlite:///mlflow.db\"\n",
    "\n",
    "client = MlflowClient(tracking_uri=MLFLOW_TRACKING_URI)"
   ]
  },
  {
   "cell_type": "code",
   "execution_count": 26,
   "id": "5d35860c",
   "metadata": {},
   "outputs": [
    {
     "data": {
      "text/plain": [
       "'2'"
      ]
     },
     "execution_count": 26,
     "metadata": {},
     "output_type": "execute_result"
    }
   ],
   "source": [
    "client.create_experiment(\"my-new-experiment\")"
   ]
  },
  {
   "cell_type": "code",
   "execution_count": 28,
   "id": "63bfe968",
   "metadata": {},
   "outputs": [],
   "source": [
    "client.delete_experiment(\"2\")"
   ]
  },
  {
   "cell_type": "code",
   "execution_count": 35,
   "id": "da431961",
   "metadata": {},
   "outputs": [],
   "source": [
    "from mlflow.entities import ViewType\n",
    "\n",
    "runs = client.search_runs(\n",
    "    experiment_ids=\"1\",\n",
    "    filter_string=\"\",\n",
    "    run_view_type=ViewType.ACTIVE_ONLY,\n",
    "    max_results=5,\n",
    "    order_by=[\"metrics.rmse ASC\"],\n",
    ")"
   ]
  },
  {
   "cell_type": "code",
   "execution_count": 36,
   "id": "b39f8b3e",
   "metadata": {},
   "outputs": [
    {
     "name": "stdout",
     "output_type": "stream",
     "text": [
      "run.info.run_id='769ce8d6b1834dd0bfe914d90d579b8f', rmse: 4.8395\n",
      "run.info.run_id='f47d106024ee4dab84ad4fc48c25d5b9', rmse: 4.8979\n",
      "run.info.run_id='0b40a2c5cf3d414c8683417d3a684fca', rmse: 5.0656\n",
      "run.info.run_id='aa7dfc14fbb645209c337b8bc1fca2e8', rmse: 5.2114\n",
      "run.info.run_id='fb5a6193a72c484192233ab61c9d9a9b', rmse: 5.2115\n"
     ]
    }
   ],
   "source": [
    "for run in runs:\n",
    "    print(f\"{run.info.run_id=}, rmse: {run.data.metrics['rmse']:.4f}\")    "
   ]
  },
  {
   "cell_type": "code",
   "execution_count": 37,
   "id": "f15888c5",
   "metadata": {},
   "outputs": [],
   "source": [
    "mlflow.set_tracking_uri(MLFLOW_TRACKING_URI)"
   ]
  },
  {
   "cell_type": "code",
   "execution_count": 39,
   "id": "8262fb36",
   "metadata": {},
   "outputs": [
    {
     "data": {
      "text/plain": [
       "<Run: data=<RunData: metrics={'best_iteration': 99.0,\n",
       " 'rmse': 4.839452010459607,\n",
       " 'stopped_iteration': 99.0,\n",
       " 'validation-rmse': 4.839452005423746}, params={'custom_metric': 'None',\n",
       " 'early_stopping_rounds': '10',\n",
       " 'learning_rate': '0.09585355369315604',\n",
       " 'max_depth': '30',\n",
       " 'maximize': 'None',\n",
       " 'min_child_weight': '1.060597050922164',\n",
       " 'num_boost_round': '100',\n",
       " 'objective': 'reg:linear',\n",
       " 'reg_alpha': '0.018060244040060163',\n",
       " 'reg_lambda': '0.011658731377413597',\n",
       " 'seed': '42',\n",
       " 'verbose_eval': 'True'}, tags={'mlflow.log-model.history': '[{\"run_id\": \"769ce8d6b1834dd0bfe914d90d579b8f\", '\n",
       "                             '\"artifact_path\": \"model\", \"utc_time_created\": '\n",
       "                             '\"2024-05-17 12:03:34.088258\", \"flavors\": '\n",
       "                             '{\"python_function\": {\"loader_module\": '\n",
       "                             '\"mlflow.xgboost\", \"python_version\": \"3.11.6\", '\n",
       "                             '\"data\": \"model.xgb\", \"env\": {\"conda\": '\n",
       "                             '\"conda.yaml\", \"virtualenv\": \"python_env.yaml\"}}, '\n",
       "                             '\"xgboost\": {\"xgb_version\": \"2.0.3\", \"data\": '\n",
       "                             '\"model.xgb\", \"model_class\": '\n",
       "                             '\"xgboost.core.Booster\", \"model_format\": \"xgb\", '\n",
       "                             '\"code\": null}}, \"model_uuid\": '\n",
       "                             '\"9faa05ed1cb642f884d9262fd9160afa\", '\n",
       "                             '\"mlflow_version\": \"2.12.2\", \"model_size_bytes\": '\n",
       "                             '16415869}, {\"run_id\": '\n",
       "                             '\"769ce8d6b1834dd0bfe914d90d579b8f\", '\n",
       "                             '\"artifact_path\": \"models_mlflow\", '\n",
       "                             '\"utc_time_created\": \"2024-05-17 '\n",
       "                             '12:03:44.464021\", \"flavors\": {\"python_function\": '\n",
       "                             '{\"loader_module\": \"mlflow.xgboost\", '\n",
       "                             '\"python_version\": \"3.11.6\", \"data\": \"model.xgb\", '\n",
       "                             '\"env\": {\"conda\": \"conda.yaml\", \"virtualenv\": '\n",
       "                             '\"python_env.yaml\"}}, \"xgboost\": {\"xgb_version\": '\n",
       "                             '\"2.0.3\", \"data\": \"model.xgb\", \"model_class\": '\n",
       "                             '\"xgboost.core.Booster\", \"model_format\": \"xgb\", '\n",
       "                             '\"code\": null}}, \"model_uuid\": '\n",
       "                             '\"d520bda603534b6faaa85d654bc71019\", '\n",
       "                             '\"mlflow_version\": \"2.12.2\", \"model_size_bytes\": '\n",
       "                             '16415869}]',\n",
       " 'mlflow.runName': 'capricious-goat-373',\n",
       " 'mlflow.source.name': '/home/mpierrau/.cache/pypoetry/virtualenvs/mlops-zoomcamp-2024-mpierrau-jQelxcs6-py3.11/lib/python3.11/site-packages/ipykernel_launcher.py',\n",
       " 'mlflow.source.type': 'LOCAL',\n",
       " 'mlflow.user': 'mpierrau'}>, info=<RunInfo: artifact_uri='/home/mpierrau/Documents/code/courses/mlops-zoomcamp-2024/mlops-zoomcamp-2024-projects/homework/02-experiment-tracking/mlruns/1/769ce8d6b1834dd0bfe914d90d579b8f/artifacts', end_time=1715947425307, experiment_id='1', lifecycle_stage='active', run_id='769ce8d6b1834dd0bfe914d90d579b8f', run_name='capricious-goat-373', run_uuid='769ce8d6b1834dd0bfe914d90d579b8f', start_time=1715947192408, status='FINISHED', user_id='mpierrau'>, inputs=<RunInputs: dataset_inputs=[]>>"
      ]
     },
     "execution_count": 39,
     "metadata": {},
     "output_type": "execute_result"
    }
   ],
   "source": [
    "client.get_run(\"769ce8d6b1834dd0bfe914d90d579b8f\")"
   ]
  },
  {
   "cell_type": "code",
   "execution_count": 40,
   "id": "00477002",
   "metadata": {},
   "outputs": [
    {
     "name": "stderr",
     "output_type": "stream",
     "text": [
      "Registered model 'nyc-taxi-regressor' already exists. Creating a new version of this model...\n",
      "Created version '4' of model 'nyc-taxi-regressor'.\n"
     ]
    },
    {
     "data": {
      "text/plain": [
       "<ModelVersion: aliases=[], creation_timestamp=1716196842677, current_stage='None', description=None, last_updated_timestamp=1716196842677, name='nyc-taxi-regressor', run_id=None, run_link=None, source='769ce8d6b1834dd0bfe914d90d579b8f', status='READY', status_message=None, tags={}, user_id=None, version=4>"
      ]
     },
     "execution_count": 40,
     "metadata": {},
     "output_type": "execute_result"
    }
   ],
   "source": [
    "mlflow.register_model(model_uri = \"769ce8d6b1834dd0bfe914d90d579b8f\", name=\"nyc-taxi-regressor\")"
   ]
  },
  {
   "cell_type": "code",
   "execution_count": 54,
   "id": "a3c5b9af",
   "metadata": {},
   "outputs": [
    {
     "name": "stderr",
     "output_type": "stream",
     "text": [
      "/tmp/ipykernel_38171/3294275207.py:2: FutureWarning: ``mlflow.tracking.client.MlflowClient.get_latest_versions`` is deprecated since 2.9.0. Model registry stages will be removed in a future major release. To learn more about the deprecation of model registry stages, see our migration guide here: https://mlflow.org/docs/2.12.2/model-registry.html#migrating-from-stages\n",
      "  latest_versions = client.get_latest_versions(name=model_name)\n"
     ]
    }
   ],
   "source": [
    "model_name = \"nyc-taxi-regressor\"\n",
    "latest_versions = client.get_latest_versions(name=model_name)"
   ]
  },
  {
   "cell_type": "code",
   "execution_count": 61,
   "id": "33db3ad2",
   "metadata": {},
   "outputs": [
    {
     "data": {
      "text/plain": [
       "<ModelVersion: aliases=[], creation_timestamp=1716196842677, current_stage='None', description='testing a manual model description update', last_updated_timestamp=1716198068752, name='nyc-taxi-regressor', run_id=None, run_link=None, source='769ce8d6b1834dd0bfe914d90d579b8f', status='READY', status_message=None, tags={}, user_id=None, version=4>"
      ]
     },
     "execution_count": 61,
     "metadata": {},
     "output_type": "execute_result"
    }
   ],
   "source": [
    "client.update_model_version(\"nyc-taxi-regressor\", \"4\", description=\"testing a manual model description update\") # only updates description"
   ]
  },
  {
   "cell_type": "code",
   "execution_count": 63,
   "id": "7e2b6c11",
   "metadata": {},
   "outputs": [],
   "source": [
    "client.set_tag(\"56cf295f0eb8461c9d5a48a1ce6ab8f3\", key=\"staging_status\", value=\"testing\")"
   ]
  },
  {
   "cell_type": "code",
   "execution_count": 64,
   "id": "7c0f0580",
   "metadata": {},
   "outputs": [
    {
     "data": {
      "application/vnd.jupyter.widget-view+json": {
       "model_id": "fb860951815e4591b9b961b0b43ac800",
       "version_major": 2,
       "version_minor": 0
      },
      "text/plain": [
       "Downloading artifacts:   0%|          | 0/9 [00:00<?, ?it/s]"
      ]
     },
     "metadata": {},
     "output_type": "display_data"
    },
    {
     "data": {
      "text/plain": [
       "'/home/mpierrau/Documents/code/courses/mlops-zoomcamp-2024/mlops-zoomcamp-2024-projects/homework/02-experiment-tracking/model'"
      ]
     },
     "execution_count": 64,
     "metadata": {},
     "output_type": "execute_result"
    }
   ],
   "source": [
    "client.download_artifacts(\"56cf295f0eb8461c9d5a48a1ce6ab8f3\", path=\"model\", dst_path=\".\")"
   ]
  },
  {
   "cell_type": "code",
   "execution_count": 66,
   "id": "cd22541f",
   "metadata": {},
   "outputs": [
    {
     "name": "stderr",
     "output_type": "stream",
     "text": [
      "/tmp/ipykernel_38171/327088126.py:1: FutureWarning: ``mlflow.tracking.client.MlflowClient.transition_model_version_stage`` is deprecated since 2.9.0. Model registry stages will be removed in a future major release. To learn more about the deprecation of model registry stages, see our migration guide here: https://mlflow.org/docs/2.12.2/model-registry.html#migrating-from-stages\n",
      "  client.transition_model_version_stage(\n"
     ]
    },
    {
     "data": {
      "text/plain": [
       "<ModelVersion: aliases=[], creation_timestamp=1716196842677, current_stage='Production', description='testing a manual model description update', last_updated_timestamp=1716204331143, name='nyc-taxi-regressor', run_id=None, run_link=None, source='769ce8d6b1834dd0bfe914d90d579b8f', status='READY', status_message=None, tags={}, user_id=None, version=4>"
      ]
     },
     "execution_count": 66,
     "metadata": {},
     "output_type": "execute_result"
    }
   ],
   "source": [
    "client.transition_model_version_stage(\n",
    "    name=\"nyc-taxi-regressor\",\n",
    "    version=4,\n",
    "    stage=\"production\",\n",
    ")"
   ]
  },
  {
   "cell_type": "code",
   "execution_count": 75,
   "id": "13440581",
   "metadata": {},
   "outputs": [
    {
     "name": "stdout",
     "output_type": "stream",
     "text": [
      "2.12.2\n"
     ]
    }
   ],
   "source": [
    "#import mlflow.version\n",
    "\n",
    "\n",
    "print(mlflow.VERSION)"
   ]
  },
  {
   "cell_type": "code",
   "execution_count": null,
   "id": "d214c624",
   "metadata": {},
   "outputs": [],
   "source": [
    "client.set_model"
   ]
  }
 ],
 "metadata": {
  "interpreter": {
   "hash": "0848c9d6c7d415ad6c477ff7ff8e98694d1a4aa96d0deee89244642e6b630036"
  },
  "kernelspec": {
   "display_name": "Python 3 (ipykernel)",
   "language": "python",
   "name": "python3"
  }
 },
 "nbformat": 4,
 "nbformat_minor": 5
}
